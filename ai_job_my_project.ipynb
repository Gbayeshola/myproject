{
 "cells": [
  {
   "cell_type": "code",
   "execution_count": 1,
   "id": "88982669-8564-4f2f-aa3c-5b8a4872bfa7",
   "metadata": {},
   "outputs": [],
   "source": [
    "import pandas as pd"
   ]
  },
  {
   "cell_type": "code",
   "execution_count": 2,
   "id": "8d9fd0b1-e746-491d-ae4d-60dbf6437db4",
   "metadata": {},
   "outputs": [],
   "source": [
    "df = pd.read_csv(\"ai_job_dataset.csv\")"
   ]
  },
  {
   "cell_type": "code",
   "execution_count": 3,
   "id": "7f767da2-6b81-4f1d-a194-f9439be6a4e2",
   "metadata": {},
   "outputs": [
    {
     "data": {
      "text/html": [
       "<div>\n",
       "<style scoped>\n",
       "    .dataframe tbody tr th:only-of-type {\n",
       "        vertical-align: middle;\n",
       "    }\n",
       "\n",
       "    .dataframe tbody tr th {\n",
       "        vertical-align: top;\n",
       "    }\n",
       "\n",
       "    .dataframe thead th {\n",
       "        text-align: right;\n",
       "    }\n",
       "</style>\n",
       "<table border=\"1\" class=\"dataframe\">\n",
       "  <thead>\n",
       "    <tr style=\"text-align: right;\">\n",
       "      <th></th>\n",
       "      <th>job_id</th>\n",
       "      <th>job_title</th>\n",
       "      <th>salary_usd</th>\n",
       "      <th>salary_currency</th>\n",
       "      <th>experience_level</th>\n",
       "      <th>employment_type</th>\n",
       "      <th>company_location</th>\n",
       "      <th>company_size</th>\n",
       "      <th>employee_residence</th>\n",
       "      <th>remote_ratio</th>\n",
       "      <th>required_skills</th>\n",
       "      <th>education_required</th>\n",
       "      <th>years_experience</th>\n",
       "      <th>industry</th>\n",
       "      <th>posting_date</th>\n",
       "      <th>application_deadline</th>\n",
       "      <th>job_description_length</th>\n",
       "      <th>benefits_score</th>\n",
       "      <th>company_name</th>\n",
       "    </tr>\n",
       "  </thead>\n",
       "  <tbody>\n",
       "    <tr>\n",
       "      <th>0</th>\n",
       "      <td>AI00001</td>\n",
       "      <td>AI Research Scientist</td>\n",
       "      <td>90376</td>\n",
       "      <td>USD</td>\n",
       "      <td>SE</td>\n",
       "      <td>CT</td>\n",
       "      <td>China</td>\n",
       "      <td>M</td>\n",
       "      <td>China</td>\n",
       "      <td>50</td>\n",
       "      <td>Tableau, PyTorch, Kubernetes, Linux, NLP</td>\n",
       "      <td>Bachelor</td>\n",
       "      <td>9</td>\n",
       "      <td>Automotive</td>\n",
       "      <td>2024-10-18</td>\n",
       "      <td>2024-11-07</td>\n",
       "      <td>1076</td>\n",
       "      <td>5.9</td>\n",
       "      <td>Smart Analytics</td>\n",
       "    </tr>\n",
       "    <tr>\n",
       "      <th>1</th>\n",
       "      <td>AI00002</td>\n",
       "      <td>AI Software Engineer</td>\n",
       "      <td>61895</td>\n",
       "      <td>USD</td>\n",
       "      <td>EN</td>\n",
       "      <td>CT</td>\n",
       "      <td>Canada</td>\n",
       "      <td>M</td>\n",
       "      <td>Ireland</td>\n",
       "      <td>100</td>\n",
       "      <td>Deep Learning, AWS, Mathematics, Python, Docker</td>\n",
       "      <td>Master</td>\n",
       "      <td>1</td>\n",
       "      <td>Media</td>\n",
       "      <td>2024-11-20</td>\n",
       "      <td>2025-01-11</td>\n",
       "      <td>1268</td>\n",
       "      <td>5.2</td>\n",
       "      <td>TechCorp Inc</td>\n",
       "    </tr>\n",
       "    <tr>\n",
       "      <th>2</th>\n",
       "      <td>AI00003</td>\n",
       "      <td>AI Specialist</td>\n",
       "      <td>152626</td>\n",
       "      <td>USD</td>\n",
       "      <td>MI</td>\n",
       "      <td>FL</td>\n",
       "      <td>Switzerland</td>\n",
       "      <td>L</td>\n",
       "      <td>South Korea</td>\n",
       "      <td>0</td>\n",
       "      <td>Kubernetes, Deep Learning, Java, Hadoop, NLP</td>\n",
       "      <td>Associate</td>\n",
       "      <td>2</td>\n",
       "      <td>Education</td>\n",
       "      <td>2025-03-18</td>\n",
       "      <td>2025-04-07</td>\n",
       "      <td>1974</td>\n",
       "      <td>9.4</td>\n",
       "      <td>Autonomous Tech</td>\n",
       "    </tr>\n",
       "    <tr>\n",
       "      <th>3</th>\n",
       "      <td>AI00004</td>\n",
       "      <td>NLP Engineer</td>\n",
       "      <td>80215</td>\n",
       "      <td>USD</td>\n",
       "      <td>SE</td>\n",
       "      <td>FL</td>\n",
       "      <td>India</td>\n",
       "      <td>M</td>\n",
       "      <td>India</td>\n",
       "      <td>50</td>\n",
       "      <td>Scala, SQL, Linux, Python</td>\n",
       "      <td>PhD</td>\n",
       "      <td>7</td>\n",
       "      <td>Consulting</td>\n",
       "      <td>2024-12-23</td>\n",
       "      <td>2025-02-24</td>\n",
       "      <td>1345</td>\n",
       "      <td>8.6</td>\n",
       "      <td>Future Systems</td>\n",
       "    </tr>\n",
       "    <tr>\n",
       "      <th>4</th>\n",
       "      <td>AI00005</td>\n",
       "      <td>AI Consultant</td>\n",
       "      <td>54624</td>\n",
       "      <td>EUR</td>\n",
       "      <td>EN</td>\n",
       "      <td>PT</td>\n",
       "      <td>France</td>\n",
       "      <td>S</td>\n",
       "      <td>Singapore</td>\n",
       "      <td>100</td>\n",
       "      <td>MLOps, Java, Tableau, Python</td>\n",
       "      <td>Master</td>\n",
       "      <td>0</td>\n",
       "      <td>Media</td>\n",
       "      <td>2025-04-15</td>\n",
       "      <td>2025-06-23</td>\n",
       "      <td>1989</td>\n",
       "      <td>6.6</td>\n",
       "      <td>Advanced Robotics</td>\n",
       "    </tr>\n",
       "    <tr>\n",
       "      <th>...</th>\n",
       "      <td>...</td>\n",
       "      <td>...</td>\n",
       "      <td>...</td>\n",
       "      <td>...</td>\n",
       "      <td>...</td>\n",
       "      <td>...</td>\n",
       "      <td>...</td>\n",
       "      <td>...</td>\n",
       "      <td>...</td>\n",
       "      <td>...</td>\n",
       "      <td>...</td>\n",
       "      <td>...</td>\n",
       "      <td>...</td>\n",
       "      <td>...</td>\n",
       "      <td>...</td>\n",
       "      <td>...</td>\n",
       "      <td>...</td>\n",
       "      <td>...</td>\n",
       "      <td>...</td>\n",
       "    </tr>\n",
       "    <tr>\n",
       "      <th>14995</th>\n",
       "      <td>AI14996</td>\n",
       "      <td>Robotics Engineer</td>\n",
       "      <td>38604</td>\n",
       "      <td>USD</td>\n",
       "      <td>EN</td>\n",
       "      <td>FL</td>\n",
       "      <td>Finland</td>\n",
       "      <td>S</td>\n",
       "      <td>Finland</td>\n",
       "      <td>50</td>\n",
       "      <td>Java, Kubernetes, Azure</td>\n",
       "      <td>Bachelor</td>\n",
       "      <td>1</td>\n",
       "      <td>Energy</td>\n",
       "      <td>2025-02-06</td>\n",
       "      <td>2025-03-25</td>\n",
       "      <td>1635</td>\n",
       "      <td>7.9</td>\n",
       "      <td>Advanced Robotics</td>\n",
       "    </tr>\n",
       "    <tr>\n",
       "      <th>14996</th>\n",
       "      <td>AI14997</td>\n",
       "      <td>Machine Learning Researcher</td>\n",
       "      <td>57811</td>\n",
       "      <td>GBP</td>\n",
       "      <td>EN</td>\n",
       "      <td>CT</td>\n",
       "      <td>United Kingdom</td>\n",
       "      <td>M</td>\n",
       "      <td>United Kingdom</td>\n",
       "      <td>0</td>\n",
       "      <td>Mathematics, Docker, SQL, Deep Learning</td>\n",
       "      <td>Master</td>\n",
       "      <td>0</td>\n",
       "      <td>Government</td>\n",
       "      <td>2024-10-16</td>\n",
       "      <td>2024-10-30</td>\n",
       "      <td>1624</td>\n",
       "      <td>8.2</td>\n",
       "      <td>Smart Analytics</td>\n",
       "    </tr>\n",
       "    <tr>\n",
       "      <th>14997</th>\n",
       "      <td>AI14998</td>\n",
       "      <td>NLP Engineer</td>\n",
       "      <td>189490</td>\n",
       "      <td>USD</td>\n",
       "      <td>EX</td>\n",
       "      <td>CT</td>\n",
       "      <td>South Korea</td>\n",
       "      <td>L</td>\n",
       "      <td>South Korea</td>\n",
       "      <td>50</td>\n",
       "      <td>Scala, Spark, NLP</td>\n",
       "      <td>Associate</td>\n",
       "      <td>17</td>\n",
       "      <td>Manufacturing</td>\n",
       "      <td>2024-03-19</td>\n",
       "      <td>2024-05-02</td>\n",
       "      <td>1336</td>\n",
       "      <td>7.4</td>\n",
       "      <td>AI Innovations</td>\n",
       "    </tr>\n",
       "    <tr>\n",
       "      <th>14998</th>\n",
       "      <td>AI14999</td>\n",
       "      <td>Head of AI</td>\n",
       "      <td>79461</td>\n",
       "      <td>EUR</td>\n",
       "      <td>EN</td>\n",
       "      <td>FT</td>\n",
       "      <td>Netherlands</td>\n",
       "      <td>M</td>\n",
       "      <td>Netherlands</td>\n",
       "      <td>0</td>\n",
       "      <td>Java, Computer Vision, Python, TensorFlow</td>\n",
       "      <td>PhD</td>\n",
       "      <td>1</td>\n",
       "      <td>Real Estate</td>\n",
       "      <td>2024-03-22</td>\n",
       "      <td>2024-04-23</td>\n",
       "      <td>1935</td>\n",
       "      <td>5.6</td>\n",
       "      <td>Smart Analytics</td>\n",
       "    </tr>\n",
       "    <tr>\n",
       "      <th>14999</th>\n",
       "      <td>AI15000</td>\n",
       "      <td>Computer Vision Engineer</td>\n",
       "      <td>56481</td>\n",
       "      <td>USD</td>\n",
       "      <td>MI</td>\n",
       "      <td>PT</td>\n",
       "      <td>Austria</td>\n",
       "      <td>S</td>\n",
       "      <td>Austria</td>\n",
       "      <td>50</td>\n",
       "      <td>Scala, Azure, Deep Learning, GCP, Mathematics</td>\n",
       "      <td>PhD</td>\n",
       "      <td>2</td>\n",
       "      <td>Technology</td>\n",
       "      <td>2024-07-18</td>\n",
       "      <td>2024-08-10</td>\n",
       "      <td>2492</td>\n",
       "      <td>7.6</td>\n",
       "      <td>AI Innovations</td>\n",
       "    </tr>\n",
       "  </tbody>\n",
       "</table>\n",
       "<p>15000 rows × 19 columns</p>\n",
       "</div>"
      ],
      "text/plain": [
       "        job_id                    job_title  salary_usd salary_currency  \\\n",
       "0      AI00001        AI Research Scientist       90376             USD   \n",
       "1      AI00002         AI Software Engineer       61895             USD   \n",
       "2      AI00003                AI Specialist      152626             USD   \n",
       "3      AI00004                 NLP Engineer       80215             USD   \n",
       "4      AI00005                AI Consultant       54624             EUR   \n",
       "...        ...                          ...         ...             ...   \n",
       "14995  AI14996            Robotics Engineer       38604             USD   \n",
       "14996  AI14997  Machine Learning Researcher       57811             GBP   \n",
       "14997  AI14998                 NLP Engineer      189490             USD   \n",
       "14998  AI14999                   Head of AI       79461             EUR   \n",
       "14999  AI15000     Computer Vision Engineer       56481             USD   \n",
       "\n",
       "      experience_level employment_type company_location company_size  \\\n",
       "0                   SE              CT            China            M   \n",
       "1                   EN              CT           Canada            M   \n",
       "2                   MI              FL      Switzerland            L   \n",
       "3                   SE              FL            India            M   \n",
       "4                   EN              PT           France            S   \n",
       "...                ...             ...              ...          ...   \n",
       "14995               EN              FL          Finland            S   \n",
       "14996               EN              CT   United Kingdom            M   \n",
       "14997               EX              CT      South Korea            L   \n",
       "14998               EN              FT      Netherlands            M   \n",
       "14999               MI              PT          Austria            S   \n",
       "\n",
       "      employee_residence  remote_ratio  \\\n",
       "0                  China            50   \n",
       "1                Ireland           100   \n",
       "2            South Korea             0   \n",
       "3                  India            50   \n",
       "4              Singapore           100   \n",
       "...                  ...           ...   \n",
       "14995            Finland            50   \n",
       "14996     United Kingdom             0   \n",
       "14997        South Korea            50   \n",
       "14998        Netherlands             0   \n",
       "14999            Austria            50   \n",
       "\n",
       "                                       required_skills education_required  \\\n",
       "0             Tableau, PyTorch, Kubernetes, Linux, NLP           Bachelor   \n",
       "1      Deep Learning, AWS, Mathematics, Python, Docker             Master   \n",
       "2         Kubernetes, Deep Learning, Java, Hadoop, NLP          Associate   \n",
       "3                            Scala, SQL, Linux, Python                PhD   \n",
       "4                         MLOps, Java, Tableau, Python             Master   \n",
       "...                                                ...                ...   \n",
       "14995                          Java, Kubernetes, Azure           Bachelor   \n",
       "14996          Mathematics, Docker, SQL, Deep Learning             Master   \n",
       "14997                                Scala, Spark, NLP          Associate   \n",
       "14998        Java, Computer Vision, Python, TensorFlow                PhD   \n",
       "14999    Scala, Azure, Deep Learning, GCP, Mathematics                PhD   \n",
       "\n",
       "       years_experience       industry posting_date application_deadline  \\\n",
       "0                     9     Automotive   2024-10-18           2024-11-07   \n",
       "1                     1          Media   2024-11-20           2025-01-11   \n",
       "2                     2      Education   2025-03-18           2025-04-07   \n",
       "3                     7     Consulting   2024-12-23           2025-02-24   \n",
       "4                     0          Media   2025-04-15           2025-06-23   \n",
       "...                 ...            ...          ...                  ...   \n",
       "14995                 1         Energy   2025-02-06           2025-03-25   \n",
       "14996                 0     Government   2024-10-16           2024-10-30   \n",
       "14997                17  Manufacturing   2024-03-19           2024-05-02   \n",
       "14998                 1    Real Estate   2024-03-22           2024-04-23   \n",
       "14999                 2     Technology   2024-07-18           2024-08-10   \n",
       "\n",
       "       job_description_length  benefits_score       company_name  \n",
       "0                        1076             5.9    Smart Analytics  \n",
       "1                        1268             5.2       TechCorp Inc  \n",
       "2                        1974             9.4    Autonomous Tech  \n",
       "3                        1345             8.6     Future Systems  \n",
       "4                        1989             6.6  Advanced Robotics  \n",
       "...                       ...             ...                ...  \n",
       "14995                    1635             7.9  Advanced Robotics  \n",
       "14996                    1624             8.2    Smart Analytics  \n",
       "14997                    1336             7.4     AI Innovations  \n",
       "14998                    1935             5.6    Smart Analytics  \n",
       "14999                    2492             7.6     AI Innovations  \n",
       "\n",
       "[15000 rows x 19 columns]"
      ]
     },
     "execution_count": 3,
     "metadata": {},
     "output_type": "execute_result"
    }
   ],
   "source": [
    "df"
   ]
  },
  {
   "cell_type": "code",
   "execution_count": 4,
   "id": "527b3085-38f4-4eb3-aa58-8ee11e720d00",
   "metadata": {},
   "outputs": [
    {
     "data": {
      "text/html": [
       "<div>\n",
       "<style scoped>\n",
       "    .dataframe tbody tr th:only-of-type {\n",
       "        vertical-align: middle;\n",
       "    }\n",
       "\n",
       "    .dataframe tbody tr th {\n",
       "        vertical-align: top;\n",
       "    }\n",
       "\n",
       "    .dataframe thead th {\n",
       "        text-align: right;\n",
       "    }\n",
       "</style>\n",
       "<table border=\"1\" class=\"dataframe\">\n",
       "  <thead>\n",
       "    <tr style=\"text-align: right;\">\n",
       "      <th></th>\n",
       "      <th>job_id</th>\n",
       "      <th>job_title</th>\n",
       "      <th>salary_usd</th>\n",
       "      <th>salary_currency</th>\n",
       "      <th>experience_level</th>\n",
       "      <th>employment_type</th>\n",
       "      <th>company_location</th>\n",
       "      <th>company_size</th>\n",
       "      <th>employee_residence</th>\n",
       "      <th>remote_ratio</th>\n",
       "      <th>required_skills</th>\n",
       "      <th>education_required</th>\n",
       "      <th>years_experience</th>\n",
       "      <th>industry</th>\n",
       "      <th>posting_date</th>\n",
       "      <th>application_deadline</th>\n",
       "      <th>job_description_length</th>\n",
       "      <th>benefits_score</th>\n",
       "      <th>company_name</th>\n",
       "    </tr>\n",
       "  </thead>\n",
       "  <tbody>\n",
       "    <tr>\n",
       "      <th>0</th>\n",
       "      <td>AI00001</td>\n",
       "      <td>AI Research Scientist</td>\n",
       "      <td>90376</td>\n",
       "      <td>USD</td>\n",
       "      <td>SE</td>\n",
       "      <td>CT</td>\n",
       "      <td>China</td>\n",
       "      <td>M</td>\n",
       "      <td>China</td>\n",
       "      <td>50</td>\n",
       "      <td>Tableau, PyTorch, Kubernetes, Linux, NLP</td>\n",
       "      <td>Bachelor</td>\n",
       "      <td>9</td>\n",
       "      <td>Automotive</td>\n",
       "      <td>2024-10-18</td>\n",
       "      <td>2024-11-07</td>\n",
       "      <td>1076</td>\n",
       "      <td>5.9</td>\n",
       "      <td>Smart Analytics</td>\n",
       "    </tr>\n",
       "    <tr>\n",
       "      <th>1</th>\n",
       "      <td>AI00002</td>\n",
       "      <td>AI Software Engineer</td>\n",
       "      <td>61895</td>\n",
       "      <td>USD</td>\n",
       "      <td>EN</td>\n",
       "      <td>CT</td>\n",
       "      <td>Canada</td>\n",
       "      <td>M</td>\n",
       "      <td>Ireland</td>\n",
       "      <td>100</td>\n",
       "      <td>Deep Learning, AWS, Mathematics, Python, Docker</td>\n",
       "      <td>Master</td>\n",
       "      <td>1</td>\n",
       "      <td>Media</td>\n",
       "      <td>2024-11-20</td>\n",
       "      <td>2025-01-11</td>\n",
       "      <td>1268</td>\n",
       "      <td>5.2</td>\n",
       "      <td>TechCorp Inc</td>\n",
       "    </tr>\n",
       "    <tr>\n",
       "      <th>2</th>\n",
       "      <td>AI00003</td>\n",
       "      <td>AI Specialist</td>\n",
       "      <td>152626</td>\n",
       "      <td>USD</td>\n",
       "      <td>MI</td>\n",
       "      <td>FL</td>\n",
       "      <td>Switzerland</td>\n",
       "      <td>L</td>\n",
       "      <td>South Korea</td>\n",
       "      <td>0</td>\n",
       "      <td>Kubernetes, Deep Learning, Java, Hadoop, NLP</td>\n",
       "      <td>Associate</td>\n",
       "      <td>2</td>\n",
       "      <td>Education</td>\n",
       "      <td>2025-03-18</td>\n",
       "      <td>2025-04-07</td>\n",
       "      <td>1974</td>\n",
       "      <td>9.4</td>\n",
       "      <td>Autonomous Tech</td>\n",
       "    </tr>\n",
       "    <tr>\n",
       "      <th>3</th>\n",
       "      <td>AI00004</td>\n",
       "      <td>NLP Engineer</td>\n",
       "      <td>80215</td>\n",
       "      <td>USD</td>\n",
       "      <td>SE</td>\n",
       "      <td>FL</td>\n",
       "      <td>India</td>\n",
       "      <td>M</td>\n",
       "      <td>India</td>\n",
       "      <td>50</td>\n",
       "      <td>Scala, SQL, Linux, Python</td>\n",
       "      <td>PhD</td>\n",
       "      <td>7</td>\n",
       "      <td>Consulting</td>\n",
       "      <td>2024-12-23</td>\n",
       "      <td>2025-02-24</td>\n",
       "      <td>1345</td>\n",
       "      <td>8.6</td>\n",
       "      <td>Future Systems</td>\n",
       "    </tr>\n",
       "    <tr>\n",
       "      <th>4</th>\n",
       "      <td>AI00005</td>\n",
       "      <td>AI Consultant</td>\n",
       "      <td>54624</td>\n",
       "      <td>EUR</td>\n",
       "      <td>EN</td>\n",
       "      <td>PT</td>\n",
       "      <td>France</td>\n",
       "      <td>S</td>\n",
       "      <td>Singapore</td>\n",
       "      <td>100</td>\n",
       "      <td>MLOps, Java, Tableau, Python</td>\n",
       "      <td>Master</td>\n",
       "      <td>0</td>\n",
       "      <td>Media</td>\n",
       "      <td>2025-04-15</td>\n",
       "      <td>2025-06-23</td>\n",
       "      <td>1989</td>\n",
       "      <td>6.6</td>\n",
       "      <td>Advanced Robotics</td>\n",
       "    </tr>\n",
       "  </tbody>\n",
       "</table>\n",
       "</div>"
      ],
      "text/plain": [
       "    job_id              job_title  salary_usd salary_currency  \\\n",
       "0  AI00001  AI Research Scientist       90376             USD   \n",
       "1  AI00002   AI Software Engineer       61895             USD   \n",
       "2  AI00003          AI Specialist      152626             USD   \n",
       "3  AI00004           NLP Engineer       80215             USD   \n",
       "4  AI00005          AI Consultant       54624             EUR   \n",
       "\n",
       "  experience_level employment_type company_location company_size  \\\n",
       "0               SE              CT            China            M   \n",
       "1               EN              CT           Canada            M   \n",
       "2               MI              FL      Switzerland            L   \n",
       "3               SE              FL            India            M   \n",
       "4               EN              PT           France            S   \n",
       "\n",
       "  employee_residence  remote_ratio  \\\n",
       "0              China            50   \n",
       "1            Ireland           100   \n",
       "2        South Korea             0   \n",
       "3              India            50   \n",
       "4          Singapore           100   \n",
       "\n",
       "                                   required_skills education_required  \\\n",
       "0         Tableau, PyTorch, Kubernetes, Linux, NLP           Bachelor   \n",
       "1  Deep Learning, AWS, Mathematics, Python, Docker             Master   \n",
       "2     Kubernetes, Deep Learning, Java, Hadoop, NLP          Associate   \n",
       "3                        Scala, SQL, Linux, Python                PhD   \n",
       "4                     MLOps, Java, Tableau, Python             Master   \n",
       "\n",
       "   years_experience    industry posting_date application_deadline  \\\n",
       "0                 9  Automotive   2024-10-18           2024-11-07   \n",
       "1                 1       Media   2024-11-20           2025-01-11   \n",
       "2                 2   Education   2025-03-18           2025-04-07   \n",
       "3                 7  Consulting   2024-12-23           2025-02-24   \n",
       "4                 0       Media   2025-04-15           2025-06-23   \n",
       "\n",
       "   job_description_length  benefits_score       company_name  \n",
       "0                    1076             5.9    Smart Analytics  \n",
       "1                    1268             5.2       TechCorp Inc  \n",
       "2                    1974             9.4    Autonomous Tech  \n",
       "3                    1345             8.6     Future Systems  \n",
       "4                    1989             6.6  Advanced Robotics  "
      ]
     },
     "execution_count": 4,
     "metadata": {},
     "output_type": "execute_result"
    }
   ],
   "source": [
    "df.head(5)"
   ]
  },
  {
   "cell_type": "code",
   "execution_count": 5,
   "id": "c972ff7d-6f82-44b9-a99d-35b676ec0086",
   "metadata": {},
   "outputs": [
    {
     "name": "stdout",
     "output_type": "stream",
     "text": [
      "<class 'pandas.core.frame.DataFrame'>\n",
      "RangeIndex: 15000 entries, 0 to 14999\n",
      "Data columns (total 19 columns):\n",
      " #   Column                  Non-Null Count  Dtype  \n",
      "---  ------                  --------------  -----  \n",
      " 0   job_id                  15000 non-null  object \n",
      " 1   job_title               15000 non-null  object \n",
      " 2   salary_usd              15000 non-null  int64  \n",
      " 3   salary_currency         15000 non-null  object \n",
      " 4   experience_level        15000 non-null  object \n",
      " 5   employment_type         15000 non-null  object \n",
      " 6   company_location        15000 non-null  object \n",
      " 7   company_size            15000 non-null  object \n",
      " 8   employee_residence      15000 non-null  object \n",
      " 9   remote_ratio            15000 non-null  int64  \n",
      " 10  required_skills         15000 non-null  object \n",
      " 11  education_required      15000 non-null  object \n",
      " 12  years_experience        15000 non-null  int64  \n",
      " 13  industry                15000 non-null  object \n",
      " 14  posting_date            15000 non-null  object \n",
      " 15  application_deadline    15000 non-null  object \n",
      " 16  job_description_length  15000 non-null  int64  \n",
      " 17  benefits_score          15000 non-null  float64\n",
      " 18  company_name            15000 non-null  object \n",
      "dtypes: float64(1), int64(4), object(14)\n",
      "memory usage: 2.2+ MB\n"
     ]
    }
   ],
   "source": [
    "df.info()"
   ]
  },
  {
   "cell_type": "code",
   "execution_count": 6,
   "id": "53659fe4-aa56-4601-93e2-9bb36ab2d4a6",
   "metadata": {},
   "outputs": [
    {
     "data": {
      "text/html": [
       "<div>\n",
       "<style scoped>\n",
       "    .dataframe tbody tr th:only-of-type {\n",
       "        vertical-align: middle;\n",
       "    }\n",
       "\n",
       "    .dataframe tbody tr th {\n",
       "        vertical-align: top;\n",
       "    }\n",
       "\n",
       "    .dataframe thead th {\n",
       "        text-align: right;\n",
       "    }\n",
       "</style>\n",
       "<table border=\"1\" class=\"dataframe\">\n",
       "  <thead>\n",
       "    <tr style=\"text-align: right;\">\n",
       "      <th></th>\n",
       "      <th>salary_usd</th>\n",
       "      <th>remote_ratio</th>\n",
       "      <th>years_experience</th>\n",
       "      <th>job_description_length</th>\n",
       "      <th>benefits_score</th>\n",
       "    </tr>\n",
       "  </thead>\n",
       "  <tbody>\n",
       "    <tr>\n",
       "      <th>count</th>\n",
       "      <td>15000.000000</td>\n",
       "      <td>15000.000000</td>\n",
       "      <td>15000.000000</td>\n",
       "      <td>15000.000000</td>\n",
       "      <td>15000.000000</td>\n",
       "    </tr>\n",
       "    <tr>\n",
       "      <th>mean</th>\n",
       "      <td>115348.965133</td>\n",
       "      <td>49.483333</td>\n",
       "      <td>6.253200</td>\n",
       "      <td>1503.314733</td>\n",
       "      <td>7.504273</td>\n",
       "    </tr>\n",
       "    <tr>\n",
       "      <th>std</th>\n",
       "      <td>60260.940438</td>\n",
       "      <td>40.812712</td>\n",
       "      <td>5.545768</td>\n",
       "      <td>576.127083</td>\n",
       "      <td>1.450870</td>\n",
       "    </tr>\n",
       "    <tr>\n",
       "      <th>min</th>\n",
       "      <td>32519.000000</td>\n",
       "      <td>0.000000</td>\n",
       "      <td>0.000000</td>\n",
       "      <td>500.000000</td>\n",
       "      <td>5.000000</td>\n",
       "    </tr>\n",
       "    <tr>\n",
       "      <th>25%</th>\n",
       "      <td>70179.750000</td>\n",
       "      <td>0.000000</td>\n",
       "      <td>2.000000</td>\n",
       "      <td>1003.750000</td>\n",
       "      <td>6.200000</td>\n",
       "    </tr>\n",
       "    <tr>\n",
       "      <th>50%</th>\n",
       "      <td>99705.000000</td>\n",
       "      <td>50.000000</td>\n",
       "      <td>5.000000</td>\n",
       "      <td>1512.000000</td>\n",
       "      <td>7.500000</td>\n",
       "    </tr>\n",
       "    <tr>\n",
       "      <th>75%</th>\n",
       "      <td>146408.500000</td>\n",
       "      <td>100.000000</td>\n",
       "      <td>10.000000</td>\n",
       "      <td>2000.000000</td>\n",
       "      <td>8.800000</td>\n",
       "    </tr>\n",
       "    <tr>\n",
       "      <th>max</th>\n",
       "      <td>399095.000000</td>\n",
       "      <td>100.000000</td>\n",
       "      <td>19.000000</td>\n",
       "      <td>2499.000000</td>\n",
       "      <td>10.000000</td>\n",
       "    </tr>\n",
       "  </tbody>\n",
       "</table>\n",
       "</div>"
      ],
      "text/plain": [
       "          salary_usd  remote_ratio  years_experience  job_description_length  \\\n",
       "count   15000.000000  15000.000000      15000.000000            15000.000000   \n",
       "mean   115348.965133     49.483333          6.253200             1503.314733   \n",
       "std     60260.940438     40.812712          5.545768              576.127083   \n",
       "min     32519.000000      0.000000          0.000000              500.000000   \n",
       "25%     70179.750000      0.000000          2.000000             1003.750000   \n",
       "50%     99705.000000     50.000000          5.000000             1512.000000   \n",
       "75%    146408.500000    100.000000         10.000000             2000.000000   \n",
       "max    399095.000000    100.000000         19.000000             2499.000000   \n",
       "\n",
       "       benefits_score  \n",
       "count    15000.000000  \n",
       "mean         7.504273  \n",
       "std          1.450870  \n",
       "min          5.000000  \n",
       "25%          6.200000  \n",
       "50%          7.500000  \n",
       "75%          8.800000  \n",
       "max         10.000000  "
      ]
     },
     "execution_count": 6,
     "metadata": {},
     "output_type": "execute_result"
    }
   ],
   "source": [
    "df.describe()"
   ]
  },
  {
   "cell_type": "code",
   "execution_count": 7,
   "id": "36cfdf78-832d-4a39-98e3-6912205adbcb",
   "metadata": {},
   "outputs": [
    {
     "data": {
      "text/plain": [
       "Index(['job_id', 'job_title', 'salary_usd', 'salary_currency',\n",
       "       'experience_level', 'employment_type', 'company_location',\n",
       "       'company_size', 'employee_residence', 'remote_ratio', 'required_skills',\n",
       "       'education_required', 'years_experience', 'industry', 'posting_date',\n",
       "       'application_deadline', 'job_description_length', 'benefits_score',\n",
       "       'company_name'],\n",
       "      dtype='object')"
      ]
     },
     "execution_count": 7,
     "metadata": {},
     "output_type": "execute_result"
    }
   ],
   "source": [
    "df.columns"
   ]
  },
  {
   "cell_type": "code",
   "execution_count": 8,
   "id": "1b388607-1503-4b91-a441-db718389b33c",
   "metadata": {},
   "outputs": [
    {
     "data": {
      "text/plain": [
       "(15000, 19)"
      ]
     },
     "execution_count": 8,
     "metadata": {},
     "output_type": "execute_result"
    }
   ],
   "source": [
    "df.shape"
   ]
  },
  {
   "cell_type": "code",
   "execution_count": 9,
   "id": "fb259834-b77a-47dd-b7a5-77f77d2459b0",
   "metadata": {},
   "outputs": [
    {
     "data": {
      "text/plain": [
       "job_id                    0\n",
       "job_title                 0\n",
       "salary_usd                0\n",
       "salary_currency           0\n",
       "experience_level          0\n",
       "employment_type           0\n",
       "company_location          0\n",
       "company_size              0\n",
       "employee_residence        0\n",
       "remote_ratio              0\n",
       "required_skills           0\n",
       "education_required        0\n",
       "years_experience          0\n",
       "industry                  0\n",
       "posting_date              0\n",
       "application_deadline      0\n",
       "job_description_length    0\n",
       "benefits_score            0\n",
       "company_name              0\n",
       "dtype: int64"
      ]
     },
     "execution_count": 9,
     "metadata": {},
     "output_type": "execute_result"
    }
   ],
   "source": [
    "df.isnull().sum()"
   ]
  },
  {
   "cell_type": "code",
   "execution_count": 10,
   "id": "d9badedd-9ba3-4b48-84ac-9122f4590d33",
   "metadata": {},
   "outputs": [
    {
     "data": {
      "text/plain": [
       "0"
      ]
     },
     "execution_count": 10,
     "metadata": {},
     "output_type": "execute_result"
    }
   ],
   "source": [
    "df.duplicated().sum()"
   ]
  },
  {
   "cell_type": "code",
   "execution_count": 11,
   "id": "5828ffb1-5595-4c07-b009-0c0e578dfc8c",
   "metadata": {},
   "outputs": [],
   "source": [
    "import seaborn as sns\n",
    "import matplotlib.pyplot as plt"
   ]
  },
  {
   "cell_type": "code",
   "execution_count": 12,
   "id": "92986793-3d28-42dd-ab98-b236aea28f40",
   "metadata": {},
   "outputs": [],
   "source": [
    "#min salary range\n",
    "min_salary= df['salary_usd']"
   ]
  },
  {
   "cell_type": "code",
   "execution_count": 13,
   "id": "8f149770-4ecd-49fc-9ae2-5ebbc3ebc58e",
   "metadata": {},
   "outputs": [
    {
     "data": {
      "text/plain": [
       "0         90376\n",
       "1         61895\n",
       "2        152626\n",
       "3         80215\n",
       "4         54624\n",
       "          ...  \n",
       "14995     38604\n",
       "14996     57811\n",
       "14997    189490\n",
       "14998     79461\n",
       "14999     56481\n",
       "Name: salary_usd, Length: 15000, dtype: int64"
      ]
     },
     "execution_count": 13,
     "metadata": {},
     "output_type": "execute_result"
    }
   ],
   "source": [
    "min_salary"
   ]
  },
  {
   "cell_type": "code",
   "execution_count": 14,
   "id": "5b665058-9d12-4fde-8077-cbff736dc69b",
   "metadata": {},
   "outputs": [],
   "source": [
    "#max salary range\n",
    "max_salary = df['salary_usd']"
   ]
  },
  {
   "cell_type": "code",
   "execution_count": 15,
   "id": "33357404-073e-4f97-8cf0-fb8362f47e1c",
   "metadata": {},
   "outputs": [
    {
     "data": {
      "text/plain": [
       "0         90376\n",
       "1         61895\n",
       "2        152626\n",
       "3         80215\n",
       "4         54624\n",
       "          ...  \n",
       "14995     38604\n",
       "14996     57811\n",
       "14997    189490\n",
       "14998     79461\n",
       "14999     56481\n",
       "Name: salary_usd, Length: 15000, dtype: int64"
      ]
     },
     "execution_count": 15,
     "metadata": {},
     "output_type": "execute_result"
    }
   ],
   "source": [
    "max_salary"
   ]
  },
  {
   "cell_type": "code",
   "execution_count": 16,
   "id": "c44cc7da-0662-49f5-8843-ce0a50bc8785",
   "metadata": {},
   "outputs": [],
   "source": [
    "#What are the top 10 most common AI job titles? \n",
    "top_job_titles = df['job_title'].value_counts().head(10)"
   ]
  },
  {
   "cell_type": "code",
   "execution_count": 17,
   "id": "8ed92d43-e58b-4527-9e98-2270b7abab71",
   "metadata": {},
   "outputs": [
    {
     "data": {
      "text/plain": [
       "job_title\n",
       "Machine Learning Researcher    808\n",
       "AI Software Engineer           784\n",
       "Autonomous Systems Engineer    777\n",
       "Machine Learning Engineer      772\n",
       "AI Architect                   771\n",
       "Head of AI                     765\n",
       "NLP Engineer                   762\n",
       "Robotics Engineer              759\n",
       "Data Analyst                   759\n",
       "AI Research Scientist          756\n",
       "Name: count, dtype: int64"
      ]
     },
     "execution_count": 17,
     "metadata": {},
     "output_type": "execute_result"
    }
   ],
   "source": [
    "top_job_titles"
   ]
  },
  {
   "cell_type": "code",
   "execution_count": 18,
   "id": "27180436-e183-4a7f-a665-b29bf6879678",
   "metadata": {},
   "outputs": [],
   "source": [
    "#What cities/locations post the most AI jobs?\n",
    "top_company_location = df['company_location'].value_counts().head(10)"
   ]
  },
  {
   "cell_type": "code",
   "execution_count": 19,
   "id": "4cd944f4-060c-404c-88d7-8e5114747922",
   "metadata": {},
   "outputs": [
    {
     "data": {
      "text/plain": [
       "company_location\n",
       "Germany      814\n",
       "Denmark      778\n",
       "France       769\n",
       "Canada       769\n",
       "Austria      765\n",
       "Singapore    764\n",
       "China        763\n",
       "India        754\n",
       "Sweden       752\n",
       "Israel       751\n",
       "Name: count, dtype: int64"
      ]
     },
     "execution_count": 19,
     "metadata": {},
     "output_type": "execute_result"
    }
   ],
   "source": [
    "top_company_location"
   ]
  },
  {
   "cell_type": "code",
   "execution_count": 20,
   "id": "acf05ad5-efb5-4a8c-9bb7-98876bcac238",
   "metadata": {},
   "outputs": [],
   "source": [
    "#What are the most in-demand skills?\n",
    "most_in_demand_skills = df['required_skills'].value_counts().head(10)"
   ]
  },
  {
   "cell_type": "code",
   "execution_count": 21,
   "id": "74516c15-3b50-4792-b578-479775a993f4",
   "metadata": {},
   "outputs": [
    {
     "data": {
      "text/plain": [
       "required_skills\n",
       "Python, TensorFlow, PyTorch               17\n",
       "Python, TensorFlow, Tableau                9\n",
       "Python, TensorFlow, MLOps                  7\n",
       "Python, TensorFlow, Data Visualization     7\n",
       "Python, TensorFlow, Linux                  7\n",
       "Python, TensorFlow, Spark                  6\n",
       "SQL, PyTorch, GCP                          6\n",
       "Linux, Python, TensorFlow                  6\n",
       "Python, TensorFlow, GCP                    6\n",
       "PyTorch, SQL, Kubernetes                   6\n",
       "Name: count, dtype: int64"
      ]
     },
     "execution_count": 21,
     "metadata": {},
     "output_type": "execute_result"
    }
   ],
   "source": [
    "most_in_demand_skills"
   ]
  },
  {
   "cell_type": "code",
   "execution_count": 22,
   "id": "f8c080ef-ab1e-4dc1-bd9b-463836eb4d46",
   "metadata": {},
   "outputs": [],
   "source": [
    "#What's the average salary by job title or experience level?\n",
    "average_salary_by_job_title= df.groupby('job_title')['salary_usd'].mean().sort_values(ascending=False).head(10)"
   ]
  },
  {
   "cell_type": "code",
   "execution_count": 23,
   "id": "d2f21063-4856-46c5-b5b0-cfca1306ef21",
   "metadata": {},
   "outputs": [
    {
     "data": {
      "text/plain": [
       "job_title\n",
       "AI Specialist                120570.758242\n",
       "Machine Learning Engineer    118827.919689\n",
       "Head of AI                   118542.968627\n",
       "AI Research Scientist        117897.925926\n",
       "AI Architect                 117436.513619\n",
       "Robotics Engineer            116470.793149\n",
       "Principal Data Scientist     116305.219346\n",
       "Research Scientist           116066.502695\n",
       "Data Engineer                115970.720961\n",
       "Data Scientist               115819.008333\n",
       "Name: salary_usd, dtype: float64"
      ]
     },
     "execution_count": 23,
     "metadata": {},
     "output_type": "execute_result"
    }
   ],
   "source": [
    "average_salary_by_job_title"
   ]
  },
  {
   "cell_type": "code",
   "execution_count": 24,
   "id": "0e485ea9-abea-4aa7-ab8f-9fd8fc323d1e",
   "metadata": {},
   "outputs": [],
   "source": [
    "#What is the most common job type (e.g., remote, full-time)?\n",
    "most_common_job_type= df['employment_type'].value_counts()"
   ]
  },
  {
   "cell_type": "code",
   "execution_count": 25,
   "id": "b7143890-41e0-4c60-a487-f5c8df0b2ba0",
   "metadata": {},
   "outputs": [
    {
     "data": {
      "text/plain": [
       "employment_type\n",
       "FT    3812\n",
       "FL    3758\n",
       "CT    3721\n",
       "PT    3709\n",
       "Name: count, dtype: int64"
      ]
     },
     "execution_count": 25,
     "metadata": {},
     "output_type": "execute_result"
    }
   ],
   "source": [
    "most_common_job_type"
   ]
  },
  {
   "cell_type": "code",
   "execution_count": 26,
   "id": "4895771b-dcd2-4f04-83bd-ccc5a6df3f47",
   "metadata": {},
   "outputs": [
    {
     "data": {
      "text/plain": [
       "20"
      ]
     },
     "execution_count": 26,
     "metadata": {},
     "output_type": "execute_result"
    }
   ],
   "source": [
    "#what are the unique ai job titles?\n",
    "df.job_title.nunique()"
   ]
  },
  {
   "cell_type": "code",
   "execution_count": 27,
   "id": "278febfc-b152-4929-acb7-f9e2f5341e19",
   "metadata": {},
   "outputs": [],
   "source": [
    "#What is the average benefits score?\n",
    "average_benefits_score = df['benefits_score'].mean()"
   ]
  },
  {
   "cell_type": "code",
   "execution_count": 28,
   "id": "66e73ba3-25f4-4851-a90e-2e81db2a5701",
   "metadata": {},
   "outputs": [
    {
     "data": {
      "text/plain": [
       "7.504273333333334"
      ]
     },
     "execution_count": 28,
     "metadata": {},
     "output_type": "execute_result"
    }
   ],
   "source": [
    "average_benefits_score"
   ]
  },
  {
   "cell_type": "code",
   "execution_count": 29,
   "id": "d88ce6bc-1b14-4588-8224-1d0fc512a3bd",
   "metadata": {},
   "outputs": [],
   "source": [
    "#what is the most common experience level?\n",
    "most_common_experience_level= df['experience_level'].value_counts()"
   ]
  },
  {
   "cell_type": "code",
   "execution_count": 30,
   "id": "f6f82265-cd96-46c1-a562-5573ecf6e3ee",
   "metadata": {},
   "outputs": [
    {
     "data": {
      "text/plain": [
       "experience_level\n",
       "MI    3781\n",
       "EX    3760\n",
       "SE    3741\n",
       "EN    3718\n",
       "Name: count, dtype: int64"
      ]
     },
     "execution_count": 30,
     "metadata": {},
     "output_type": "execute_result"
    }
   ],
   "source": [
    "most_common_experience_level"
   ]
  },
  {
   "cell_type": "code",
   "execution_count": 31,
   "id": "df163941-c633-44df-8b91-f9c2fd48be1b",
   "metadata": {},
   "outputs": [],
   "source": [
    "#what is the distribution of education requirements?\n",
    "education_requirements_distribution= df['education_required'].value_counts()"
   ]
  },
  {
   "cell_type": "code",
   "execution_count": 32,
   "id": "cb7b196a-cdbd-4e03-9ff9-01d8547ee7ba",
   "metadata": {},
   "outputs": [
    {
     "data": {
      "text/plain": [
       "education_required\n",
       "Bachelor     3789\n",
       "Associate    3785\n",
       "Master       3748\n",
       "PhD          3678\n",
       "Name: count, dtype: int64"
      ]
     },
     "execution_count": 32,
     "metadata": {},
     "output_type": "execute_result"
    }
   ],
   "source": [
    "education_requirements_distribution"
   ]
  },
  {
   "cell_type": "code",
   "execution_count": 33,
   "id": "517b3dc8-75ba-4b7e-9eae-163e7480fcf6",
   "metadata": {},
   "outputs": [
    {
     "name": "stdout",
     "output_type": "stream",
     "text": [
      "32.800000000000004\n"
     ]
    }
   ],
   "source": [
    "#what percentage of jobs are fully remote (remote_ratio =100)?\n",
    "print(((df['remote_ratio'] == 100).sum() / df.shape[0]) * 100)"
   ]
  },
  {
   "cell_type": "code",
   "execution_count": 34,
   "id": "5e3cb324-e488-4bd8-a07a-6b034b704021",
   "metadata": {},
   "outputs": [],
   "source": [
    "#what is the average salary by company size?\n",
    "average_salary_by_company_size = df.groupby('company_size')['salary_usd'].mean()"
   ]
  },
  {
   "cell_type": "code",
   "execution_count": 35,
   "id": "1c80f80d-71e3-4195-a629-16d3e8398e67",
   "metadata": {},
   "outputs": [
    {
     "data": {
      "text/plain": [
       "company_size\n",
       "L    130322.451781\n",
       "M    113600.237037\n",
       "S    102146.930098\n",
       "Name: salary_usd, dtype: float64"
      ]
     },
     "execution_count": 35,
     "metadata": {},
     "output_type": "execute_result"
    }
   ],
   "source": [
    "average_salary_by_company_size"
   ]
  },
  {
   "cell_type": "code",
   "execution_count": 36,
   "id": "28ac0c90-2c77-4b37-9271-3d5f5846ce5e",
   "metadata": {},
   "outputs": [],
   "source": [
    "#what job titles have the widest salary range?\n",
    "widest_salary_range_by_job_titles= df.groupby('job_title')['salary_usd'].max()"
   ]
  },
  {
   "cell_type": "code",
   "execution_count": 37,
   "id": "22695257-28dd-41cc-b6bd-2a9d7797daf6",
   "metadata": {},
   "outputs": [
    {
     "data": {
      "text/plain": [
       "job_title\n",
       "AI Architect                   398084\n",
       "AI Consultant                  325757\n",
       "AI Product Manager             381575\n",
       "AI Research Scientist          394917\n",
       "AI Software Engineer           379418\n",
       "AI Specialist                  390292\n",
       "Autonomous Systems Engineer    364585\n",
       "Computer Vision Engineer       366957\n",
       "Data Analyst                   361541\n",
       "Data Engineer                  359044\n",
       "Data Scientist                 388754\n",
       "Deep Learning Engineer         362503\n",
       "Head of AI                     361718\n",
       "ML Ops Engineer                352006\n",
       "Machine Learning Engineer      344427\n",
       "Machine Learning Researcher    399095\n",
       "NLP Engineer                   357880\n",
       "Principal Data Scientist       364635\n",
       "Research Scientist             339526\n",
       "Robotics Engineer              346789\n",
       "Name: salary_usd, dtype: int64"
      ]
     },
     "execution_count": 37,
     "metadata": {},
     "output_type": "execute_result"
    }
   ],
   "source": [
    "widest_salary_range_by_job_titles"
   ]
  },
  {
   "cell_type": "code",
   "execution_count": 38,
   "id": "c8d0780f-4243-4d80-bfbd-aec831be8f8e",
   "metadata": {},
   "outputs": [],
   "source": [
    "#what are the locations offering remote jobs?\n",
    "top_remote_locations_jobs= df[df['remote_ratio'] == 100]['company_location'].value_counts().head(10)"
   ]
  },
  {
   "cell_type": "code",
   "execution_count": 39,
   "id": "f460ae56-4c14-42f3-b963-9fb5cb13c6cf",
   "metadata": {},
   "outputs": [
    {
     "data": {
      "text/plain": [
       "company_location\n",
       "China        271\n",
       "Ireland      269\n",
       "Austria      266\n",
       "Sweden       262\n",
       "India        261\n",
       "Denmark      258\n",
       "Canada       255\n",
       "France       251\n",
       "Australia    250\n",
       "Singapore    248\n",
       "Name: count, dtype: int64"
      ]
     },
     "execution_count": 39,
     "metadata": {},
     "output_type": "execute_result"
    }
   ],
   "source": [
    "top_remote_locations_jobs"
   ]
  },
  {
   "cell_type": "code",
   "execution_count": 40,
   "id": "8c2c9ca0-5195-4500-a3af-cb97b66089cc",
   "metadata": {},
   "outputs": [],
   "source": [
    "#which countries have the highest average job description length?\n",
    "average_description_length = df.groupby('company_location')['job_description_length'].mean().sort_values(ascending=False).head(10)"
   ]
  },
  {
   "cell_type": "code",
   "execution_count": 41,
   "id": "c47450c2-c348-4fd2-8919-ec99acd7ad39",
   "metadata": {},
   "outputs": [
    {
     "data": {
      "text/plain": [
       "company_location\n",
       "China          1534.006553\n",
       "Ireland        1523.468000\n",
       "Germany        1523.417690\n",
       "Netherlands    1514.552668\n",
       "Israel         1510.960053\n",
       "Austria        1510.862745\n",
       "South Korea    1510.055402\n",
       "Switzerland    1509.841823\n",
       "India          1508.031830\n",
       "Norway         1503.490985\n",
       "Name: job_description_length, dtype: float64"
      ]
     },
     "execution_count": 41,
     "metadata": {},
     "output_type": "execute_result"
    }
   ],
   "source": [
    "average_description_length"
   ]
  },
  {
   "cell_type": "code",
   "execution_count": 42,
   "id": "e09a9d7b-6273-4ae1-b5e0-05615990e99f",
   "metadata": {},
   "outputs": [],
   "source": [
    "#what industries require the longest job description?\n",
    "average_description_length_by_industry = df.groupby('industry')['job_description_length'].mean().sort_values(ascending=False).head(10)"
   ]
  },
  {
   "cell_type": "code",
   "execution_count": 43,
   "id": "2216815c-91ac-4a96-ae44-d167a84e6d4e",
   "metadata": {},
   "outputs": [
    {
     "data": {
      "text/plain": [
       "industry\n",
       "Gaming            1550.074457\n",
       "Energy            1533.036885\n",
       "Technology        1521.867458\n",
       "Finance           1520.953252\n",
       "Retail            1515.380056\n",
       "Transportation    1505.220662\n",
       "Consulting        1505.184314\n",
       "Automotive        1496.934314\n",
       "Healthcare        1496.016048\n",
       "Manufacturing     1490.849272\n",
       "Name: job_description_length, dtype: float64"
      ]
     },
     "execution_count": 43,
     "metadata": {},
     "output_type": "execute_result"
    }
   ],
   "source": [
    "average_description_length_by_industry"
   ]
  },
  {
   "cell_type": "code",
   "execution_count": 44,
   "id": "d73d5428-e864-4e9a-b9ff-6957519aadaa",
   "metadata": {},
   "outputs": [],
   "source": [
    "#what is the trend of postings by month(from posting_date)\n",
    "df['posting_date'] = pd.to_datetime(df['posting_date'])"
   ]
  },
  {
   "cell_type": "code",
   "execution_count": 45,
   "id": "ffdb513a-e63c-4af8-9c8e-985e31b1b579",
   "metadata": {},
   "outputs": [
    {
     "data": {
      "text/plain": [
       "0       2024-10-18\n",
       "1       2024-11-20\n",
       "2       2025-03-18\n",
       "3       2024-12-23\n",
       "4       2025-04-15\n",
       "           ...    \n",
       "14995   2025-02-06\n",
       "14996   2024-10-16\n",
       "14997   2024-03-19\n",
       "14998   2024-03-22\n",
       "14999   2024-07-18\n",
       "Name: posting_date, Length: 15000, dtype: datetime64[ns]"
      ]
     },
     "execution_count": 45,
     "metadata": {},
     "output_type": "execute_result"
    }
   ],
   "source": [
    "df['posting_date']"
   ]
  },
  {
   "cell_type": "code",
   "execution_count": 46,
   "id": "5d70612e-bef8-40d0-9edc-87fef4b25077",
   "metadata": {},
   "outputs": [],
   "source": [
    "#is there a correlation between benefits score and salary?\n",
    "correlation = df['benefits_score'].corr(df['salary_usd'])"
   ]
  },
  {
   "cell_type": "code",
   "execution_count": 47,
   "id": "17484159-aeb8-48d0-ab30-7bf02ad798c6",
   "metadata": {},
   "outputs": [
    {
     "data": {
      "text/plain": [
       "0.00098523054773546"
      ]
     },
     "execution_count": 47,
     "metadata": {},
     "output_type": "execute_result"
    }
   ],
   "source": [
    "correlation"
   ]
  },
  {
   "cell_type": "code",
   "execution_count": 48,
   "id": "a87e4972-7594-4058-9fcc-82158e8eea60",
   "metadata": {},
   "outputs": [],
   "source": [
    "#how many unique combinations of job title and location existed?\n",
    "unique_combination= df[['job_title', 'company_location']].drop_duplicates().shape[0]"
   ]
  },
  {
   "cell_type": "code",
   "execution_count": 49,
   "id": "a961607e-29f8-428c-983d-118b28775857",
   "metadata": {},
   "outputs": [
    {
     "data": {
      "text/plain": [
       "400"
      ]
     },
     "execution_count": 49,
     "metadata": {},
     "output_type": "execute_result"
    }
   ],
   "source": [
    "unique_combination"
   ]
  },
  {
   "cell_type": "code",
   "execution_count": 50,
   "id": "3f70be30-94fb-412b-bf23-6a800d822d01",
   "metadata": {},
   "outputs": [
    {
     "name": "stdout",
     "output_type": "stream",
     "text": [
      "company_name\n",
      "TechCorp Inc                  980\n",
      "Cognitive Computing           972\n",
      "AI Innovations                964\n",
      "Digital Transformation LLC    961\n",
      "Future Systems                960\n",
      "Quantum Computing Inc         960\n",
      "Cloud AI Solutions            951\n",
      "Predictive Systems            947\n",
      "Smart Analytics               927\n",
      "Advanced Robotics             925\n",
      "Name: count, dtype: int64\n"
     ]
    }
   ],
   "source": [
    "#which companies are hiring the most ai professionals?\n",
    "print(df['company_name'].value_counts().head(10))"
   ]
  },
  {
   "cell_type": "code",
   "execution_count": 51,
   "id": "fc4e4774-4837-46f2-b978-073e2fd55976",
   "metadata": {},
   "outputs": [
    {
     "name": "stdout",
     "output_type": "stream",
     "text": [
      "required_skills\n",
      "python, tensorflow, pytorch               17\n",
      "python, tensorflow, tableau                9\n",
      "python, tensorflow, mlops                  7\n",
      "python, tensorflow, data visualization     7\n",
      "python, tensorflow, linux                  7\n",
      "python, tensorflow, spark                  6\n",
      "sql, pytorch, gcp                          6\n",
      "linux, python, tensorflow                  6\n",
      "python, tensorflow, gcp                    6\n",
      "pytorch, sql, kubernetes                   6\n",
      "Name: count, dtype: int64\n"
     ]
    }
   ],
   "source": [
    "#what are the common qualifications for ai jobs?\n",
    "print(df['required_skills'].dropna().str.lower().value_counts().head(10))"
   ]
  },
  {
   "cell_type": "code",
   "execution_count": 52,
   "id": "5f2b4181-5531-420f-9ad0-89e5cce59e45",
   "metadata": {},
   "outputs": [],
   "source": [
    "#Are ai job postings increasing each year?\n",
    "year= df['posting_date'].dt.year"
   ]
  },
  {
   "cell_type": "code",
   "execution_count": 53,
   "id": "4082f2ca-c85c-440d-b8b8-faadfea4d84c",
   "metadata": {},
   "outputs": [
    {
     "data": {
      "text/plain": [
       "0        2024\n",
       "1        2024\n",
       "2        2025\n",
       "3        2024\n",
       "4        2025\n",
       "         ... \n",
       "14995    2025\n",
       "14996    2024\n",
       "14997    2024\n",
       "14998    2024\n",
       "14999    2024\n",
       "Name: posting_date, Length: 15000, dtype: int32"
      ]
     },
     "execution_count": 53,
     "metadata": {},
     "output_type": "execute_result"
    }
   ],
   "source": [
    "year"
   ]
  },
  {
   "cell_type": "code",
   "execution_count": 54,
   "id": "f37da3ea-a53c-4990-aad2-34cb7f2dafe7",
   "metadata": {},
   "outputs": [
    {
     "name": "stdout",
     "output_type": "stream",
     "text": [
      "0    CT\n",
      "1    CT\n",
      "2    FL\n",
      "3    FL\n",
      "4    PT\n",
      "Name: employment_type, dtype: object\n"
     ]
    }
   ],
   "source": [
    "#what are the most common job descriptions for ai roles?\n",
    "print(df['employment_type'].dropna().str[:100].head(5))"
   ]
  },
  {
   "cell_type": "code",
   "execution_count": 55,
   "id": "90036d11-d8ce-4ab5-8fcc-a6f56dea06e3",
   "metadata": {},
   "outputs": [],
   "source": [
    "#how does the average salary differ across various experience levels(e.g., Entry-level, Mid-level,senior)\n",
    "average_salary_by_exerience = df.groupby('experience_level')['salary_usd'].mean()"
   ]
  },
  {
   "cell_type": "code",
   "execution_count": 56,
   "id": "655813c4-c9a8-4fd1-9ae7-428bee563678",
   "metadata": {},
   "outputs": [
    {
     "data": {
      "text/plain": [
       "experience_level\n",
       "EN     63133.377084\n",
       "EX    187723.647340\n",
       "MI     87955.471833\n",
       "SE    122187.657845\n",
       "Name: salary_usd, dtype: float64"
      ]
     },
     "execution_count": 56,
     "metadata": {},
     "output_type": "execute_result"
    }
   ],
   "source": [
    "average_salary_by_exerience "
   ]
  },
  {
   "cell_type": "code",
   "execution_count": 57,
   "id": "712a3118-82a0-4bda-87be-a5f40ffd7bbf",
   "metadata": {},
   "outputs": [],
   "source": [
    "#what is the relationshp between job type and experience level(e.g., are internerships mostly entry-level)?\n",
    "relationship_between_employment_type_and_experience_level = pd.crosstab(df['employment_type'],df['experience_level'])"
   ]
  },
  {
   "cell_type": "code",
   "execution_count": 58,
   "id": "3959009d-120e-4d6a-9240-fd162326d144",
   "metadata": {},
   "outputs": [
    {
     "data": {
      "text/html": [
       "<div>\n",
       "<style scoped>\n",
       "    .dataframe tbody tr th:only-of-type {\n",
       "        vertical-align: middle;\n",
       "    }\n",
       "\n",
       "    .dataframe tbody tr th {\n",
       "        vertical-align: top;\n",
       "    }\n",
       "\n",
       "    .dataframe thead th {\n",
       "        text-align: right;\n",
       "    }\n",
       "</style>\n",
       "<table border=\"1\" class=\"dataframe\">\n",
       "  <thead>\n",
       "    <tr style=\"text-align: right;\">\n",
       "      <th>experience_level</th>\n",
       "      <th>EN</th>\n",
       "      <th>EX</th>\n",
       "      <th>MI</th>\n",
       "      <th>SE</th>\n",
       "    </tr>\n",
       "    <tr>\n",
       "      <th>employment_type</th>\n",
       "      <th></th>\n",
       "      <th></th>\n",
       "      <th></th>\n",
       "      <th></th>\n",
       "    </tr>\n",
       "  </thead>\n",
       "  <tbody>\n",
       "    <tr>\n",
       "      <th>CT</th>\n",
       "      <td>912</td>\n",
       "      <td>953</td>\n",
       "      <td>937</td>\n",
       "      <td>919</td>\n",
       "    </tr>\n",
       "    <tr>\n",
       "      <th>FL</th>\n",
       "      <td>900</td>\n",
       "      <td>920</td>\n",
       "      <td>1000</td>\n",
       "      <td>938</td>\n",
       "    </tr>\n",
       "    <tr>\n",
       "      <th>FT</th>\n",
       "      <td>939</td>\n",
       "      <td>963</td>\n",
       "      <td>924</td>\n",
       "      <td>986</td>\n",
       "    </tr>\n",
       "    <tr>\n",
       "      <th>PT</th>\n",
       "      <td>967</td>\n",
       "      <td>924</td>\n",
       "      <td>920</td>\n",
       "      <td>898</td>\n",
       "    </tr>\n",
       "  </tbody>\n",
       "</table>\n",
       "</div>"
      ],
      "text/plain": [
       "experience_level   EN   EX    MI   SE\n",
       "employment_type                      \n",
       "CT                912  953   937  919\n",
       "FL                900  920  1000  938\n",
       "FT                939  963   924  986\n",
       "PT                967  924   920  898"
      ]
     },
     "execution_count": 58,
     "metadata": {},
     "output_type": "execute_result"
    }
   ],
   "source": [
    "relationship_between_employment_type_and_experience_level"
   ]
  },
  {
   "cell_type": "code",
   "execution_count": 59,
   "id": "bec9afe9-f9f2-4b6f-80cd-80ea58c0101c",
   "metadata": {},
   "outputs": [],
   "source": [
    "#what is the overall medain salary across all job postings?\n",
    "df['salary_usd'] = pd.to_numeric(df['salary_usd'], errors='coerce')"
   ]
  },
  {
   "cell_type": "code",
   "execution_count": 60,
   "id": "0f1ae760-ca29-415c-807e-84173abdc60d",
   "metadata": {},
   "outputs": [
    {
     "data": {
      "text/plain": [
       "0         90376\n",
       "1         61895\n",
       "2        152626\n",
       "3         80215\n",
       "4         54624\n",
       "          ...  \n",
       "14995     38604\n",
       "14996     57811\n",
       "14997    189490\n",
       "14998     79461\n",
       "14999     56481\n",
       "Name: salary_usd, Length: 15000, dtype: int64"
      ]
     },
     "execution_count": 60,
     "metadata": {},
     "output_type": "execute_result"
    }
   ],
   "source": [
    "df['salary_usd']"
   ]
  },
  {
   "cell_type": "code",
   "execution_count": 61,
   "id": "b970d134-9c6d-44d5-a849-ec47e251ba77",
   "metadata": {},
   "outputs": [],
   "source": [
    "#which ai job titles are declining?\n",
    "df['year_experience'] = df['posting_date'].dt.year"
   ]
  },
  {
   "cell_type": "code",
   "execution_count": 62,
   "id": "a5238395-f7b0-460c-9e54-26694e58f949",
   "metadata": {},
   "outputs": [
    {
     "data": {
      "text/plain": [
       "0        2024\n",
       "1        2024\n",
       "2        2025\n",
       "3        2024\n",
       "4        2025\n",
       "         ... \n",
       "14995    2025\n",
       "14996    2024\n",
       "14997    2024\n",
       "14998    2024\n",
       "14999    2024\n",
       "Name: year_experience, Length: 15000, dtype: int32"
      ]
     },
     "execution_count": 62,
     "metadata": {},
     "output_type": "execute_result"
    }
   ],
   "source": [
    "df['year_experience']"
   ]
  },
  {
   "cell_type": "code",
   "execution_count": 63,
   "id": "0265086d-6964-4797-9ac6-39fa742fde22",
   "metadata": {},
   "outputs": [],
   "source": [
    "#Are salaries increasing over time?\n",
    "average_salary_per_year = df.groupby('posting_date')['salary_usd'].mean()"
   ]
  },
  {
   "cell_type": "code",
   "execution_count": 64,
   "id": "7a7fa633-6f70-4a9c-806b-c4d397e173fa",
   "metadata": {},
   "outputs": [
    {
     "data": {
      "text/plain": [
       "posting_date\n",
       "2024-01-01    136822.391304\n",
       "2024-01-02    109170.115385\n",
       "2024-01-03    106955.181818\n",
       "2024-01-04    105962.517241\n",
       "2024-01-05    105977.947368\n",
       "                  ...      \n",
       "2025-04-26    114748.368421\n",
       "2025-04-27    113737.931034\n",
       "2025-04-28    121456.740741\n",
       "2025-04-29    131370.861111\n",
       "2025-04-30    120986.121212\n",
       "Name: salary_usd, Length: 486, dtype: float64"
      ]
     },
     "execution_count": 64,
     "metadata": {},
     "output_type": "execute_result"
    }
   ],
   "source": [
    "average_salary_per_year"
   ]
  },
  {
   "cell_type": "code",
   "execution_count": 65,
   "id": "e400fef6-d280-4955-8fe0-bf922e18d369",
   "metadata": {},
   "outputs": [
    {
     "data": {
      "text/html": [
       "<div>\n",
       "<style scoped>\n",
       "    .dataframe tbody tr th:only-of-type {\n",
       "        vertical-align: middle;\n",
       "    }\n",
       "\n",
       "    .dataframe tbody tr th {\n",
       "        vertical-align: top;\n",
       "    }\n",
       "\n",
       "    .dataframe thead tr th {\n",
       "        text-align: left;\n",
       "    }\n",
       "\n",
       "    .dataframe thead tr:last-of-type th {\n",
       "        text-align: right;\n",
       "    }\n",
       "</style>\n",
       "<table border=\"1\" class=\"dataframe\">\n",
       "  <thead>\n",
       "    <tr>\n",
       "      <th></th>\n",
       "      <th colspan=\"8\" halign=\"left\">salary_usd</th>\n",
       "    </tr>\n",
       "    <tr>\n",
       "      <th></th>\n",
       "      <th>count</th>\n",
       "      <th>mean</th>\n",
       "      <th>std</th>\n",
       "      <th>min</th>\n",
       "      <th>25%</th>\n",
       "      <th>50%</th>\n",
       "      <th>75%</th>\n",
       "      <th>max</th>\n",
       "    </tr>\n",
       "    <tr>\n",
       "      <th>job_title</th>\n",
       "      <th></th>\n",
       "      <th></th>\n",
       "      <th></th>\n",
       "      <th></th>\n",
       "      <th></th>\n",
       "      <th></th>\n",
       "      <th></th>\n",
       "      <th></th>\n",
       "    </tr>\n",
       "  </thead>\n",
       "  <tbody>\n",
       "    <tr>\n",
       "      <th>AI Architect</th>\n",
       "      <td>771.0</td>\n",
       "      <td>117436.513619</td>\n",
       "      <td>62061.058583</td>\n",
       "      <td>33220.0</td>\n",
       "      <td>72687.00</td>\n",
       "      <td>99888.0</td>\n",
       "      <td>147488.00</td>\n",
       "      <td>398084.0</td>\n",
       "    </tr>\n",
       "    <tr>\n",
       "      <th>AI Consultant</th>\n",
       "      <td>704.0</td>\n",
       "      <td>113671.870739</td>\n",
       "      <td>54325.238938</td>\n",
       "      <td>33959.0</td>\n",
       "      <td>73392.50</td>\n",
       "      <td>101471.0</td>\n",
       "      <td>144808.50</td>\n",
       "      <td>325757.0</td>\n",
       "    </tr>\n",
       "    <tr>\n",
       "      <th>AI Product Manager</th>\n",
       "      <td>743.0</td>\n",
       "      <td>114680.909825</td>\n",
       "      <td>60827.595611</td>\n",
       "      <td>33770.0</td>\n",
       "      <td>69147.00</td>\n",
       "      <td>99434.0</td>\n",
       "      <td>146486.50</td>\n",
       "      <td>381575.0</td>\n",
       "    </tr>\n",
       "    <tr>\n",
       "      <th>AI Research Scientist</th>\n",
       "      <td>756.0</td>\n",
       "      <td>117897.925926</td>\n",
       "      <td>64166.702875</td>\n",
       "      <td>33092.0</td>\n",
       "      <td>69937.25</td>\n",
       "      <td>100990.0</td>\n",
       "      <td>149985.50</td>\n",
       "      <td>394917.0</td>\n",
       "    </tr>\n",
       "    <tr>\n",
       "      <th>AI Software Engineer</th>\n",
       "      <td>784.0</td>\n",
       "      <td>114273.201531</td>\n",
       "      <td>59400.327755</td>\n",
       "      <td>33013.0</td>\n",
       "      <td>69284.25</td>\n",
       "      <td>97701.5</td>\n",
       "      <td>148386.75</td>\n",
       "      <td>379418.0</td>\n",
       "    </tr>\n",
       "    <tr>\n",
       "      <th>AI Specialist</th>\n",
       "      <td>728.0</td>\n",
       "      <td>120570.758242</td>\n",
       "      <td>64677.838666</td>\n",
       "      <td>34174.0</td>\n",
       "      <td>73077.75</td>\n",
       "      <td>103626.5</td>\n",
       "      <td>155871.00</td>\n",
       "      <td>390292.0</td>\n",
       "    </tr>\n",
       "    <tr>\n",
       "      <th>Autonomous Systems Engineer</th>\n",
       "      <td>777.0</td>\n",
       "      <td>111396.557272</td>\n",
       "      <td>54782.196489</td>\n",
       "      <td>32790.0</td>\n",
       "      <td>70100.00</td>\n",
       "      <td>97415.0</td>\n",
       "      <td>141125.00</td>\n",
       "      <td>364585.0</td>\n",
       "    </tr>\n",
       "    <tr>\n",
       "      <th>Computer Vision Engineer</th>\n",
       "      <td>724.0</td>\n",
       "      <td>113472.707182</td>\n",
       "      <td>58841.727241</td>\n",
       "      <td>32519.0</td>\n",
       "      <td>71331.00</td>\n",
       "      <td>96679.0</td>\n",
       "      <td>141749.50</td>\n",
       "      <td>366957.0</td>\n",
       "    </tr>\n",
       "    <tr>\n",
       "      <th>Data Analyst</th>\n",
       "      <td>759.0</td>\n",
       "      <td>111321.180501</td>\n",
       "      <td>57745.818000</td>\n",
       "      <td>32542.0</td>\n",
       "      <td>69003.00</td>\n",
       "      <td>96074.0</td>\n",
       "      <td>136232.00</td>\n",
       "      <td>361541.0</td>\n",
       "    </tr>\n",
       "    <tr>\n",
       "      <th>Data Engineer</th>\n",
       "      <td>749.0</td>\n",
       "      <td>115970.720961</td>\n",
       "      <td>57484.893519</td>\n",
       "      <td>33951.0</td>\n",
       "      <td>71501.00</td>\n",
       "      <td>104447.0</td>\n",
       "      <td>148785.00</td>\n",
       "      <td>359044.0</td>\n",
       "    </tr>\n",
       "    <tr>\n",
       "      <th>Data Scientist</th>\n",
       "      <td>720.0</td>\n",
       "      <td>115819.008333</td>\n",
       "      <td>60275.140741</td>\n",
       "      <td>32977.0</td>\n",
       "      <td>71332.25</td>\n",
       "      <td>100529.5</td>\n",
       "      <td>145328.75</td>\n",
       "      <td>388754.0</td>\n",
       "    </tr>\n",
       "    <tr>\n",
       "      <th>Deep Learning Engineer</th>\n",
       "      <td>718.0</td>\n",
       "      <td>113725.632312</td>\n",
       "      <td>61008.516000</td>\n",
       "      <td>32926.0</td>\n",
       "      <td>69029.75</td>\n",
       "      <td>97716.0</td>\n",
       "      <td>142272.25</td>\n",
       "      <td>362503.0</td>\n",
       "    </tr>\n",
       "    <tr>\n",
       "      <th>Head of AI</th>\n",
       "      <td>765.0</td>\n",
       "      <td>118542.968627</td>\n",
       "      <td>62582.953849</td>\n",
       "      <td>32907.0</td>\n",
       "      <td>72085.00</td>\n",
       "      <td>102025.0</td>\n",
       "      <td>151786.00</td>\n",
       "      <td>361718.0</td>\n",
       "    </tr>\n",
       "    <tr>\n",
       "      <th>ML Ops Engineer</th>\n",
       "      <td>725.0</td>\n",
       "      <td>115431.335172</td>\n",
       "      <td>59625.346159</td>\n",
       "      <td>33056.0</td>\n",
       "      <td>70508.00</td>\n",
       "      <td>101624.0</td>\n",
       "      <td>146649.00</td>\n",
       "      <td>352006.0</td>\n",
       "    </tr>\n",
       "    <tr>\n",
       "      <th>Machine Learning Engineer</th>\n",
       "      <td>772.0</td>\n",
       "      <td>118827.919689</td>\n",
       "      <td>62319.113302</td>\n",
       "      <td>34286.0</td>\n",
       "      <td>71402.50</td>\n",
       "      <td>103687.0</td>\n",
       "      <td>149810.50</td>\n",
       "      <td>344427.0</td>\n",
       "    </tr>\n",
       "    <tr>\n",
       "      <th>Machine Learning Researcher</th>\n",
       "      <td>808.0</td>\n",
       "      <td>112621.747525</td>\n",
       "      <td>61769.914712</td>\n",
       "      <td>33114.0</td>\n",
       "      <td>65351.00</td>\n",
       "      <td>96206.5</td>\n",
       "      <td>139860.00</td>\n",
       "      <td>399095.0</td>\n",
       "    </tr>\n",
       "    <tr>\n",
       "      <th>NLP Engineer</th>\n",
       "      <td>762.0</td>\n",
       "      <td>112670.937008</td>\n",
       "      <td>58746.788555</td>\n",
       "      <td>32587.0</td>\n",
       "      <td>67190.75</td>\n",
       "      <td>97559.5</td>\n",
       "      <td>143882.00</td>\n",
       "      <td>357880.0</td>\n",
       "    </tr>\n",
       "    <tr>\n",
       "      <th>Principal Data Scientist</th>\n",
       "      <td>734.0</td>\n",
       "      <td>116305.219346</td>\n",
       "      <td>61946.978475</td>\n",
       "      <td>33185.0</td>\n",
       "      <td>70470.00</td>\n",
       "      <td>98712.0</td>\n",
       "      <td>148352.50</td>\n",
       "      <td>364635.0</td>\n",
       "    </tr>\n",
       "    <tr>\n",
       "      <th>Research Scientist</th>\n",
       "      <td>742.0</td>\n",
       "      <td>116066.502695</td>\n",
       "      <td>61432.092599</td>\n",
       "      <td>34179.0</td>\n",
       "      <td>70453.00</td>\n",
       "      <td>99446.5</td>\n",
       "      <td>145533.75</td>\n",
       "      <td>339526.0</td>\n",
       "    </tr>\n",
       "    <tr>\n",
       "      <th>Robotics Engineer</th>\n",
       "      <td>759.0</td>\n",
       "      <td>116470.793149</td>\n",
       "      <td>59567.959133</td>\n",
       "      <td>32692.0</td>\n",
       "      <td>71811.00</td>\n",
       "      <td>100714.0</td>\n",
       "      <td>146803.00</td>\n",
       "      <td>346789.0</td>\n",
       "    </tr>\n",
       "  </tbody>\n",
       "</table>\n",
       "</div>"
      ],
      "text/plain": [
       "                            salary_usd                                        \\\n",
       "                                 count           mean           std      min   \n",
       "job_title                                                                      \n",
       "AI Architect                     771.0  117436.513619  62061.058583  33220.0   \n",
       "AI Consultant                    704.0  113671.870739  54325.238938  33959.0   \n",
       "AI Product Manager               743.0  114680.909825  60827.595611  33770.0   \n",
       "AI Research Scientist            756.0  117897.925926  64166.702875  33092.0   \n",
       "AI Software Engineer             784.0  114273.201531  59400.327755  33013.0   \n",
       "AI Specialist                    728.0  120570.758242  64677.838666  34174.0   \n",
       "Autonomous Systems Engineer      777.0  111396.557272  54782.196489  32790.0   \n",
       "Computer Vision Engineer         724.0  113472.707182  58841.727241  32519.0   \n",
       "Data Analyst                     759.0  111321.180501  57745.818000  32542.0   \n",
       "Data Engineer                    749.0  115970.720961  57484.893519  33951.0   \n",
       "Data Scientist                   720.0  115819.008333  60275.140741  32977.0   \n",
       "Deep Learning Engineer           718.0  113725.632312  61008.516000  32926.0   \n",
       "Head of AI                       765.0  118542.968627  62582.953849  32907.0   \n",
       "ML Ops Engineer                  725.0  115431.335172  59625.346159  33056.0   \n",
       "Machine Learning Engineer        772.0  118827.919689  62319.113302  34286.0   \n",
       "Machine Learning Researcher      808.0  112621.747525  61769.914712  33114.0   \n",
       "NLP Engineer                     762.0  112670.937008  58746.788555  32587.0   \n",
       "Principal Data Scientist         734.0  116305.219346  61946.978475  33185.0   \n",
       "Research Scientist               742.0  116066.502695  61432.092599  34179.0   \n",
       "Robotics Engineer                759.0  116470.793149  59567.959133  32692.0   \n",
       "\n",
       "                                                                      \n",
       "                                  25%       50%        75%       max  \n",
       "job_title                                                             \n",
       "AI Architect                 72687.00   99888.0  147488.00  398084.0  \n",
       "AI Consultant                73392.50  101471.0  144808.50  325757.0  \n",
       "AI Product Manager           69147.00   99434.0  146486.50  381575.0  \n",
       "AI Research Scientist        69937.25  100990.0  149985.50  394917.0  \n",
       "AI Software Engineer         69284.25   97701.5  148386.75  379418.0  \n",
       "AI Specialist                73077.75  103626.5  155871.00  390292.0  \n",
       "Autonomous Systems Engineer  70100.00   97415.0  141125.00  364585.0  \n",
       "Computer Vision Engineer     71331.00   96679.0  141749.50  366957.0  \n",
       "Data Analyst                 69003.00   96074.0  136232.00  361541.0  \n",
       "Data Engineer                71501.00  104447.0  148785.00  359044.0  \n",
       "Data Scientist               71332.25  100529.5  145328.75  388754.0  \n",
       "Deep Learning Engineer       69029.75   97716.0  142272.25  362503.0  \n",
       "Head of AI                   72085.00  102025.0  151786.00  361718.0  \n",
       "ML Ops Engineer              70508.00  101624.0  146649.00  352006.0  \n",
       "Machine Learning Engineer    71402.50  103687.0  149810.50  344427.0  \n",
       "Machine Learning Researcher  65351.00   96206.5  139860.00  399095.0  \n",
       "NLP Engineer                 67190.75   97559.5  143882.00  357880.0  \n",
       "Principal Data Scientist     70470.00   98712.0  148352.50  364635.0  \n",
       "Research Scientist           70453.00   99446.5  145533.75  339526.0  \n",
       "Robotics Engineer            71811.00  100714.0  146803.00  346789.0  "
      ]
     },
     "execution_count": 65,
     "metadata": {},
     "output_type": "execute_result"
    }
   ],
   "source": [
    "#what is the salary range per job title?\n",
    "df[['job_title', 'salary_usd']].groupby('job_title').describe()"
   ]
  },
  {
   "cell_type": "code",
   "execution_count": 66,
   "id": "66f103d8-f983-44c9-b588-a075337a1281",
   "metadata": {},
   "outputs": [
    {
     "data": {
      "text/plain": [
       "job_title\n",
       "Research Scientist             45.754717\n",
       "Head of AI                     47.058824\n",
       "Robotics Engineer              47.101449\n",
       "Machine Learning Researcher    48.081683\n",
       "AI Research Scientist          48.214286\n",
       "Deep Learning Engineer         48.328691\n",
       "Data Scientist                 49.375000\n",
       "AI Architect                   49.416342\n",
       "Principal Data Scientist       49.591281\n",
       "Data Analyst                   49.670619\n",
       "Name: remote_ratio, dtype: float64"
      ]
     },
     "execution_count": 66,
     "metadata": {},
     "output_type": "execute_result"
    }
   ],
   "source": [
    "#how does remote ratio vary by job title?\n",
    "df.groupby('job_title')['remote_ratio'].mean().sort_values().head(10)"
   ]
  },
  {
   "cell_type": "code",
   "execution_count": 67,
   "id": "08ba69a6-79a3-4c16-be98-dd9581b0fbba",
   "metadata": {},
   "outputs": [],
   "source": [
    "#what degrees are most sought after is ai job postings?\n",
    "most_sought_degrees_in_ai_job_posting = df['education_required'].value_counts()"
   ]
  },
  {
   "cell_type": "code",
   "execution_count": 68,
   "id": "91c2ebb1-7aa7-49c8-b621-f2b97153e6a4",
   "metadata": {},
   "outputs": [
    {
     "data": {
      "text/plain": [
       "education_required\n",
       "Bachelor     3789\n",
       "Associate    3785\n",
       "Master       3748\n",
       "PhD          3678\n",
       "Name: count, dtype: int64"
      ]
     },
     "execution_count": 68,
     "metadata": {},
     "output_type": "execute_result"
    }
   ],
   "source": [
    "most_sought_degrees_in_ai_job_posting "
   ]
  },
  {
   "cell_type": "code",
   "execution_count": 69,
   "id": "88adbcb9-3541-493f-8eb1-eb41c9a791df",
   "metadata": {},
   "outputs": [
    {
     "name": "stdout",
     "output_type": "stream",
     "text": [
      "115348.96513333333\n"
     ]
    }
   ],
   "source": [
    "#what is the average salary for ai roles?\n",
    "print(df['salary_usd'].dropna().mean())"
   ]
  },
  {
   "cell_type": "code",
   "execution_count": 70,
   "id": "a2cbc804-645b-49df-ad64-99122bb649a0",
   "metadata": {},
   "outputs": [],
   "source": [
    "#what skills are unique to NLP roles?\n",
    "nlp_skills = df[df['job_title'].str.lower() == 'nlp engineer']['required_skills'].dropna()"
   ]
  },
  {
   "cell_type": "code",
   "execution_count": 71,
   "id": "a1a77bfe-9dbd-49bc-918e-b8b6b0d4cefe",
   "metadata": {},
   "outputs": [
    {
     "data": {
      "text/plain": [
       "3                        Scala, SQL, Linux, Python\n",
       "7        Python, SQL, Computer Vision, Java, Azure\n",
       "70                          AWS, Kubernetes, Azure\n",
       "83                Java, SQL, Spark, Tableau, Azure\n",
       "85               Git, MLOps, Hadoop, Python, Spark\n",
       "                           ...                    \n",
       "14912                   Linux, Deep Learning, Java\n",
       "14915                      Docker, SQL, Statistics\n",
       "14934         R, Statistics, Docker, Deep Learning\n",
       "14960    PyTorch, Docker, SQL, Java, Deep Learning\n",
       "14997                            Scala, Spark, NLP\n",
       "Name: required_skills, Length: 762, dtype: object"
      ]
     },
     "execution_count": 71,
     "metadata": {},
     "output_type": "execute_result"
    }
   ],
   "source": [
    "nlp_skills"
   ]
  },
  {
   "cell_type": "code",
   "execution_count": 72,
   "id": "b8df7ef2-2150-4c11-bcaf-5d851bf550ef",
   "metadata": {},
   "outputs": [
    {
     "data": {
      "text/html": [
       "<div>\n",
       "<style scoped>\n",
       "    .dataframe tbody tr th:only-of-type {\n",
       "        vertical-align: middle;\n",
       "    }\n",
       "\n",
       "    .dataframe tbody tr th {\n",
       "        vertical-align: top;\n",
       "    }\n",
       "\n",
       "    .dataframe thead th {\n",
       "        text-align: right;\n",
       "    }\n",
       "</style>\n",
       "<table border=\"1\" class=\"dataframe\">\n",
       "  <thead>\n",
       "    <tr style=\"text-align: right;\">\n",
       "      <th>job_title</th>\n",
       "      <th>AI Architect</th>\n",
       "      <th>AI Consultant</th>\n",
       "      <th>AI Product Manager</th>\n",
       "      <th>AI Research Scientist</th>\n",
       "      <th>AI Software Engineer</th>\n",
       "      <th>AI Specialist</th>\n",
       "      <th>Autonomous Systems Engineer</th>\n",
       "      <th>Computer Vision Engineer</th>\n",
       "      <th>Data Analyst</th>\n",
       "      <th>Data Engineer</th>\n",
       "      <th>Data Scientist</th>\n",
       "      <th>Deep Learning Engineer</th>\n",
       "      <th>Head of AI</th>\n",
       "      <th>ML Ops Engineer</th>\n",
       "      <th>Machine Learning Engineer</th>\n",
       "      <th>Machine Learning Researcher</th>\n",
       "      <th>NLP Engineer</th>\n",
       "      <th>Principal Data Scientist</th>\n",
       "      <th>Research Scientist</th>\n",
       "      <th>Robotics Engineer</th>\n",
       "    </tr>\n",
       "    <tr>\n",
       "      <th>company_size</th>\n",
       "      <th></th>\n",
       "      <th></th>\n",
       "      <th></th>\n",
       "      <th></th>\n",
       "      <th></th>\n",
       "      <th></th>\n",
       "      <th></th>\n",
       "      <th></th>\n",
       "      <th></th>\n",
       "      <th></th>\n",
       "      <th></th>\n",
       "      <th></th>\n",
       "      <th></th>\n",
       "      <th></th>\n",
       "      <th></th>\n",
       "      <th></th>\n",
       "      <th></th>\n",
       "      <th></th>\n",
       "      <th></th>\n",
       "      <th></th>\n",
       "    </tr>\n",
       "  </thead>\n",
       "  <tbody>\n",
       "    <tr>\n",
       "      <th>L</th>\n",
       "      <td>261</td>\n",
       "      <td>243</td>\n",
       "      <td>233</td>\n",
       "      <td>236</td>\n",
       "      <td>264</td>\n",
       "      <td>251</td>\n",
       "      <td>249</td>\n",
       "      <td>246</td>\n",
       "      <td>259</td>\n",
       "      <td>270</td>\n",
       "      <td>250</td>\n",
       "      <td>246</td>\n",
       "      <td>246</td>\n",
       "      <td>232</td>\n",
       "      <td>267</td>\n",
       "      <td>245</td>\n",
       "      <td>250</td>\n",
       "      <td>257</td>\n",
       "      <td>239</td>\n",
       "      <td>254</td>\n",
       "    </tr>\n",
       "    <tr>\n",
       "      <th>M</th>\n",
       "      <td>249</td>\n",
       "      <td>236</td>\n",
       "      <td>256</td>\n",
       "      <td>256</td>\n",
       "      <td>249</td>\n",
       "      <td>232</td>\n",
       "      <td>258</td>\n",
       "      <td>234</td>\n",
       "      <td>265</td>\n",
       "      <td>239</td>\n",
       "      <td>251</td>\n",
       "      <td>235</td>\n",
       "      <td>283</td>\n",
       "      <td>251</td>\n",
       "      <td>253</td>\n",
       "      <td>270</td>\n",
       "      <td>243</td>\n",
       "      <td>227</td>\n",
       "      <td>255</td>\n",
       "      <td>253</td>\n",
       "    </tr>\n",
       "    <tr>\n",
       "      <th>S</th>\n",
       "      <td>261</td>\n",
       "      <td>225</td>\n",
       "      <td>254</td>\n",
       "      <td>264</td>\n",
       "      <td>271</td>\n",
       "      <td>245</td>\n",
       "      <td>270</td>\n",
       "      <td>244</td>\n",
       "      <td>235</td>\n",
       "      <td>240</td>\n",
       "      <td>219</td>\n",
       "      <td>237</td>\n",
       "      <td>236</td>\n",
       "      <td>242</td>\n",
       "      <td>252</td>\n",
       "      <td>293</td>\n",
       "      <td>269</td>\n",
       "      <td>250</td>\n",
       "      <td>248</td>\n",
       "      <td>252</td>\n",
       "    </tr>\n",
       "  </tbody>\n",
       "</table>\n",
       "</div>"
      ],
      "text/plain": [
       "job_title     AI Architect  AI Consultant  AI Product Manager  \\\n",
       "company_size                                                    \n",
       "L                      261            243                 233   \n",
       "M                      249            236                 256   \n",
       "S                      261            225                 254   \n",
       "\n",
       "job_title     AI Research Scientist  AI Software Engineer  AI Specialist  \\\n",
       "company_size                                                               \n",
       "L                               236                   264            251   \n",
       "M                               256                   249            232   \n",
       "S                               264                   271            245   \n",
       "\n",
       "job_title     Autonomous Systems Engineer  Computer Vision Engineer  \\\n",
       "company_size                                                          \n",
       "L                                     249                       246   \n",
       "M                                     258                       234   \n",
       "S                                     270                       244   \n",
       "\n",
       "job_title     Data Analyst  Data Engineer  Data Scientist  \\\n",
       "company_size                                                \n",
       "L                      259            270             250   \n",
       "M                      265            239             251   \n",
       "S                      235            240             219   \n",
       "\n",
       "job_title     Deep Learning Engineer  Head of AI  ML Ops Engineer  \\\n",
       "company_size                                                        \n",
       "L                                246         246              232   \n",
       "M                                235         283              251   \n",
       "S                                237         236              242   \n",
       "\n",
       "job_title     Machine Learning Engineer  Machine Learning Researcher  \\\n",
       "company_size                                                           \n",
       "L                                   267                          245   \n",
       "M                                   253                          270   \n",
       "S                                   252                          293   \n",
       "\n",
       "job_title     NLP Engineer  Principal Data Scientist  Research Scientist  \\\n",
       "company_size                                                               \n",
       "L                      250                       257                 239   \n",
       "M                      243                       227                 255   \n",
       "S                      269                       250                 248   \n",
       "\n",
       "job_title     Robotics Engineer  \n",
       "company_size                     \n",
       "L                           254  \n",
       "M                           253  \n",
       "S                           252  "
      ]
     },
     "execution_count": 72,
     "metadata": {},
     "output_type": "execute_result"
    }
   ],
   "source": [
    "#what ai roles are common in startups vs large firms?\n",
    "df.groupby('company_size')['job_title'].value_counts().unstack().fillna(0).head()"
   ]
  },
  {
   "cell_type": "code",
   "execution_count": 73,
   "id": "c4563663-2291-4002-9645-037cc6254865",
   "metadata": {},
   "outputs": [],
   "source": [
    "#What insights can be gained by analyzing the relationship between job_description_length and application_deadline duration?\n",
    "df['application_deadline'] = pd.to_datetime(df['application_deadline'], errors='coerce')\n",
    "df.dropna(subset=['application_deadline', 'posting_date'], inplace=True)"
   ]
  },
  {
   "cell_type": "code",
   "execution_count": 74,
   "id": "14856852-e453-4ac4-8997-297798e1972e",
   "metadata": {},
   "outputs": [
    {
     "data": {
      "text/plain": [
       "0       2024-11-07\n",
       "1       2025-01-11\n",
       "2       2025-04-07\n",
       "3       2025-02-24\n",
       "4       2025-06-23\n",
       "           ...    \n",
       "14995   2025-03-25\n",
       "14996   2024-10-30\n",
       "14997   2024-05-02\n",
       "14998   2024-04-23\n",
       "14999   2024-08-10\n",
       "Name: application_deadline, Length: 15000, dtype: datetime64[ns]"
      ]
     },
     "execution_count": 74,
     "metadata": {},
     "output_type": "execute_result"
    }
   ],
   "source": [
    "df['application_deadline']"
   ]
  },
  {
   "cell_type": "code",
   "execution_count": 75,
   "id": "379e98be-ebd8-43c7-8a6a-5a63e586725d",
   "metadata": {},
   "outputs": [],
   "source": [
    "#How do remote_ratio and employee_residence relate to salary expectations?\n",
    "salary_by_remote_residence = df.groupby(['remote_ratio', 'employee_residence'])['salary_usd'].mean().sort_values(ascending=False)"
   ]
  },
  {
   "cell_type": "code",
   "execution_count": 76,
   "id": "24da3be6-d706-4b3e-8e7b-ebc8cf636909",
   "metadata": {},
   "outputs": [
    {
     "data": {
      "text/plain": [
       "remote_ratio  employee_residence\n",
       "50            Switzerland           156277.821561\n",
       "              Denmark               154235.049618\n",
       "100           Switzerland           151829.991489\n",
       "0             Switzerland           149794.270492\n",
       "              Denmark               149485.424125\n",
       "100           Denmark               146066.019380\n",
       "              United States         144883.878151\n",
       "              Norway                144773.470833\n",
       "50            Norway                143882.309013\n",
       "0             Norway                143368.158103\n",
       "              United States         134073.424490\n",
       "50            United States         132800.111588\n",
       "0             Netherlands           126802.588889\n",
       "100           Singapore             126657.021459\n",
       "50            Singapore             124758.576471\n",
       "              United Kingdom        124749.179775\n",
       "              Australia             124513.836735\n",
       "100           Germany               123381.230769\n",
       "50            Sweden                123263.456349\n",
       "100           United Kingdom        122542.560000\n",
       "0             Singapore             122096.019841\n",
       "100           Canada                121933.161290\n",
       "0             Sweden                121539.314394\n",
       "50            Netherlands           121449.337778\n",
       "100           Netherlands           121293.779468\n",
       "50            Germany               119994.965116\n",
       "0             United Kingdom        118383.162791\n",
       "100           Sweden                117346.616788\n",
       "50            Canada                117343.291188\n",
       "100           France                116690.691304\n",
       "50            France                115943.449640\n",
       "0             Australia             115762.403292\n",
       "              Canada                115105.035573\n",
       "              Germany               114819.731061\n",
       "100           Australia             114339.723140\n",
       "0             France                111994.311355\n",
       "100           Israel                100637.487179\n",
       "              Austria               100468.753846\n",
       "0             Japan                  99924.530612\n",
       "              India                  97725.710744\n",
       "100           China                  97415.127341\n",
       "              Ireland                97225.408922\n",
       "              Finland                97194.668224\n",
       "50            Israel                 96203.943396\n",
       "100           South Korea            96116.539062\n",
       "0             South Korea            95811.444882\n",
       "50            Finland                95197.721030\n",
       "              Austria                94994.087649\n",
       "              Ireland                94955.693966\n",
       "100           Japan                  94903.200913\n",
       "50            South Korea            94733.411067\n",
       "0             Ireland                94666.991632\n",
       "              Austria                94545.116981\n",
       "50            Japan                  94442.991525\n",
       "0             Finland                93530.000000\n",
       "              Israel                 93345.107759\n",
       "100           India                  91540.798507\n",
       "50            India                  91275.419847\n",
       "              China                  89342.800000\n",
       "0             China                  88801.536680\n",
       "Name: salary_usd, dtype: float64"
      ]
     },
     "execution_count": 76,
     "metadata": {},
     "output_type": "execute_result"
    }
   ],
   "source": [
    "salary_by_remote_residence"
   ]
  },
  {
   "cell_type": "code",
   "execution_count": 77,
   "id": "c5e695a1-b8bd-4b1d-bb9b-45d2377b93f2",
   "metadata": {},
   "outputs": [],
   "source": [
    "import pandas as pd\n",
    "import matplotlib.pyplot as plt\n",
    "import seaborn as sns"
   ]
  },
  {
   "cell_type": "code",
   "execution_count": 78,
   "id": "b4093aa5-3f42-402d-955e-3a9ad0c90a1f",
   "metadata": {},
   "outputs": [],
   "source": [
    "#Bar charts (e.g., job counts by title)\n",
    "job_title_counts = df['job_title'].value_counts().nlargest(5)"
   ]
  },
  {
   "cell_type": "code",
   "execution_count": 79,
   "id": "f2e3fe02-9beb-4e30-b1cb-bf2aed276dd5",
   "metadata": {},
   "outputs": [
    {
     "data": {
      "text/plain": [
       "job_title\n",
       "Machine Learning Researcher    808\n",
       "AI Software Engineer           784\n",
       "Autonomous Systems Engineer    777\n",
       "Machine Learning Engineer      772\n",
       "AI Architect                   771\n",
       "Name: count, dtype: int64"
      ]
     },
     "execution_count": 79,
     "metadata": {},
     "output_type": "execute_result"
    }
   ],
   "source": [
    "job_title_counts "
   ]
  },
  {
   "cell_type": "code",
   "execution_count": 80,
   "id": "9143b6d3-2a5c-4d57-8cb4-376339d9b9de",
   "metadata": {},
   "outputs": [
    {
     "data": {
      "image/png": "[encoded data removed]",
      "text/plain": [
       "<Figure size 800x500 with 1 Axes>"
      ]
     },
     "metadata": {},
     "output_type": "display_data"
    }
   ],
   "source": [
    "plt.figure(figsize=(8, 5))\n",
    "plt.bar(job_title_counts.index, job_title_counts.values, color=['orange', 'green', 'blue', 'red'])\n",
    "plt.title('Job Titles by Count')\n",
    "plt.xlabel('Job Title')\n",
    "plt.ylabel('count')\n",
    "plt.xticks(rotation=45)\n",
    "plt.show()"
   ]
  },
  {
   "cell_type": "code",
   "execution_count": 81,
   "id": "6fe680d0-378b-4b4a-9eba-0787a7a26642",
   "metadata": {},
   "outputs": [],
   "source": [
    "#Pie chart or horizontal bar (e.g., job distribution by city?\n",
    "company_location_by_job_distribution = df['company_location'].value_counts()"
   ]
  },
  {
   "cell_type": "code",
   "execution_count": 82,
   "id": "8059aa83-35aa-45bf-80d2-4776b9120449",
   "metadata": {},
   "outputs": [
    {
     "data": {
      "text/plain": [
       "company_location\n",
       "Germany           814\n",
       "Denmark           778\n",
       "France            769\n",
       "Canada            769\n",
       "Austria           765\n",
       "Singapore         764\n",
       "China             763\n",
       "India             754\n",
       "Sweden            752\n",
       "Israel            751\n",
       "Ireland           750\n",
       "Switzerland       746\n",
       "Finland           733\n",
       "Japan             733\n",
       "Australia         732\n",
       "Netherlands       731\n",
       "United Kingdom    729\n",
       "United States     724\n",
       "South Korea       722\n",
       "Norway            721\n",
       "Name: count, dtype: int64"
      ]
     },
     "execution_count": 82,
     "metadata": {},
     "output_type": "execute_result"
    }
   ],
   "source": [
    "company_location_by_job_distribution"
   ]
  },
  {
   "cell_type": "code",
   "execution_count": 83,
   "id": "f9e4e4b0-1870-4b08-b5b2-2c1295468b93",
   "metadata": {},
   "outputs": [
    {
     "data": {
      "image/png": "[encoded data removed]",
      "text/plain": [
       "<Figure size 800x800 with 1 Axes>"
      ]
     },
     "metadata": {},
     "output_type": "display_data"
    }
   ],
   "source": [
    "plt.figure(figsize=(8, 8))\n",
    "plt.pie(company_location_by_job_distribution.values, labels=company_location_by_job_distribution.index, autopct='%1.1f%%')\n",
    "plt.title('distribution by company location')\n",
    "plt.show()"
   ]
  },
  {
   "cell_type": "code",
   "execution_count": null,
   "id": "61c97ce0-1664-489d-9715-41181eecd01b",
   "metadata": {},
   "outputs": [],
   "source": [
    "#Line plot (remote ratio) ETC "
   ]
  },
  {
   "cell_type": "code",
   "execution_count": 93,
   "id": "4dba10f1-8a1d-405b-b7ac-77c2ca50e231",
   "metadata": {},
   "outputs": [],
   "source": [
    "remote = df['remote_ratio'].value_counts()"
   ]
  },
  {
   "cell_type": "code",
   "execution_count": 94,
   "id": "2cafd8eb-ac6d-48b3-9632-0f7e4b145b54",
   "metadata": {},
   "outputs": [
    {
     "data": {
      "image/png": "[encoded data removed]",
      "text/plain": [
       "<Figure size 800x300 with 1 Axes>"
      ]
     },
     "metadata": {},
     "output_type": "display_data"
    }
   ],
   "source": [
    "plt.figure(figsize=(8,3))\n",
    "plt.plot(remote.index,remote.values,marker = 'o', color= 'blue')\n",
    "plt.title('remote rating')\n",
    "plt.xlabel('remote')\n",
    "plt.show()"
   ]
  },
  {
   "cell_type": "code",
   "execution_count": null,
   "id": "9191121a-1eb4-4607-a003-3290faf4da39",
   "metadata": {},
   "outputs": [],
   "source": []
  }
 ],
 "metadata": {
  "kernelspec": {
   "display_name": "Python [conda env:base] *",
   "language": "python",
   "name": "conda-base-py"
  },
  "language_info": {
   "codemirror_mode": {
    "name": "ipython",
    "version": 3
   },
   "file_extension": ".py",
   "mimetype": "text/x-python",
   "name": "python",
   "nbconvert_exporter": "python",
   "pygments_lexer": "ipython3",
   "version": "3.12.7"
  }
 },
 "nbformat": 4,
 "nbformat_minor": 5
}
